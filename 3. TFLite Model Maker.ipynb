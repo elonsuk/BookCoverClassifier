{
 "cells": [
  {
   "cell_type": "code",
   "execution_count": 1,
   "id": "221bf934",
   "metadata": {},
   "outputs": [],
   "source": [
    "from tflite_model_maker import image_classifier\n",
    "from tflite_model_maker.image_classifier import DataLoader\n",
    "\n",
    "import tensorflow as tf\n",
    "assert tf.__version__.startswith('2')\n",
    "\n",
    "import matplotlib.pyplot as plt\n",
    "import numpy as np"
   ]
  },
  {
   "cell_type": "code",
   "execution_count": null,
   "id": "ddaa2ce2",
   "metadata": {},
   "outputs": [],
   "source": [
    "IMAGE_PATH = r\"C:\\Users\\offco\\Documents\\Dev_Projects\\BookCoverClassifier\\Datasets\\Augmented_Cover_Images\"\n",
    "data = DataLoader.from_folder(IMAGE_PATH)\n",
    "train_data, test_data = data.split(0.9)"
   ]
  },
  {
   "cell_type": "code",
   "execution_count": null,
   "id": "a0460ee5",
   "metadata": {},
   "outputs": [],
   "source": [
    "model = image_classifier.create(train_data)"
   ]
  },
  {
   "cell_type": "code",
   "execution_count": null,
   "id": "2f9b9675",
   "metadata": {},
   "outputs": [],
   "source": [
    "loss, accuracy = model.evaluate(test_data)"
   ]
  },
  {
   "cell_type": "code",
   "execution_count": null,
   "id": "e377e9d7",
   "metadata": {},
   "outputs": [],
   "source": [
    "EXPORT_PATH = r\"C:\\Users\\offco\\Documents\\Dev_Projects\\BookCoverClassifier\\TFLite_Model\"\n",
    "model.export(export_dir=EXPORT_PATH)"
   ]
  }
 ],
 "metadata": {
  "kernelspec": {
   "display_name": "Python 3 (ipykernel)",
   "language": "python",
   "name": "python3"
  },
  "language_info": {
   "codemirror_mode": {
    "name": "ipython",
    "version": 3
   },
   "file_extension": ".py",
   "mimetype": "text/x-python",
   "name": "python",
   "nbconvert_exporter": "python",
   "pygments_lexer": "ipython3",
   "version": "3.8.12"
  }
 },
 "nbformat": 4,
 "nbformat_minor": 5
}

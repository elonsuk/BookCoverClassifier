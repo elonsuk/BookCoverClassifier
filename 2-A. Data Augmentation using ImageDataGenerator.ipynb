{
 "cells": [
  {
   "cell_type": "code",
   "execution_count": 10,
   "id": "8d334cf9",
   "metadata": {},
   "outputs": [],
   "source": [
    "import os\n",
    "import numpy as np\n",
    "from PIL import Image\n",
    "\n",
    "from keras.preprocessing.image import ImageDataGenerator\n",
    "from skimage import io\n",
    "from io import StringIO"
   ]
  },
  {
   "cell_type": "code",
   "execution_count": 2,
   "id": "e46e9182",
   "metadata": {},
   "outputs": [],
   "source": [
    "data_generator = ImageDataGenerator(\n",
    "    rotation_range=90,\n",
    "    width_shift_range=0.5,\n",
    "    height_shift_range=0.5,\n",
    "    shear_range=0.3,\n",
    "    zoom_range=0.2,\n",
    "    horizontal_flip=True,\n",
    "    fill_mode='reflect'\n",
    ")"
   ]
  },
  {
   "cell_type": "code",
   "execution_count": null,
   "id": "d0f0676f",
   "metadata": {},
   "outputs": [
    {
     "name": "stderr",
     "output_type": "stream",
     "text": [
      "C:\\Users\\offco\\.conda\\envs\\tf2\\lib\\site-packages\\PIL\\TiffImagePlugin.py:819: UserWarning: Corrupt EXIF data.  Expecting to read 2 bytes but only got 0. \n",
      "  warnings.warn(str(msg))\n"
     ]
    }
   ],
   "source": [
    "ORIGINAL_IMAGE_FOLDER_PATH = r\"C:\\Users\\offco\\Documents\\Dev_Projects\\BookCoverClassifier\\Datasets\\Cover_Images\"\n",
    "AUGMENT_SAVE_PATH = r\"C:\\Users\\offco\\Documents\\Dev_Projects\\BookCoverClassifier\\Datasets\\Augmented_Cover_Images\"\n",
    "SIZE = 256\n",
    "images = []\n",
    "class_count = 0\n",
    "\n",
    "for image_name in os.listdir(ORIGINAL_IMAGE_FOLDER_PATH):\n",
    "    class_count += 1\n",
    "    if (image_name.split('.')[-1] == 'jpg'):\n",
    "        try:\n",
    "            image = io.imread(ORIGINAL_IMAGE_FOLDER_PATH + '/' + image_name)\n",
    "            image = Image.fromarray(image, 'RGB')\n",
    "            image = np.array(image.resize((SIZE, SIZE)))\n",
    "            image = image.reshape((1, ) + image.shape)\n",
    "\n",
    "            max_len_elem = max(image_name.split('.'), key=len)\n",
    "            TITLE = max_len_elem if not max_len_elem.isdigit() else image_name.split('.')[1]\n",
    "            TITLE = TITLE if '-' not in TITLE else '_'.join(TITLE.split('-')[1:])\n",
    "\n",
    "            SAVE = AUGMENT_SAVE_PATH + '/' + TITLE\n",
    "\n",
    "            try:\n",
    "                os.mkdir(SAVE)\n",
    "            except FileExistsError:\n",
    "                pass\n",
    "\n",
    "            i = 0\n",
    "            for batch in data_generator.flow(\n",
    "                image, \n",
    "                batch_size=16,\n",
    "                save_to_dir=SAVE,\n",
    "                save_prefix='aug',\n",
    "                save_format='png'\n",
    "            ):\n",
    "                i += 1\n",
    "                if i > 250: break\n",
    "        \n",
    "        except ValueError:\n",
    "            class_count -= 1\n",
    "            pass\n",
    "        \n",
    "print(f\"Class count: {class_count}\")"
   ]
  },
  {
   "cell_type": "code",
   "execution_count": null,
   "id": "0014c967",
   "metadata": {},
   "outputs": [],
   "source": []
  }
 ],
 "metadata": {
  "kernelspec": {
   "display_name": "Python 3 (ipykernel)",
   "language": "python",
   "name": "python3"
  },
  "language_info": {
   "codemirror_mode": {
    "name": "ipython",
    "version": 3
   },
   "file_extension": ".py",
   "mimetype": "text/x-python",
   "name": "python",
   "nbconvert_exporter": "python",
   "pygments_lexer": "ipython3",
   "version": "3.9.12"
  }
 },
 "nbformat": 4,
 "nbformat_minor": 5
}

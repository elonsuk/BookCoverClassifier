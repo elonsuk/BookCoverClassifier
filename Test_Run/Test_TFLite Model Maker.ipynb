{
 "cells": [
  {
   "cell_type": "code",
   "execution_count": 1,
   "id": "221bf934",
   "metadata": {},
   "outputs": [],
   "source": [
    "from tflite_model_maker import image_classifier\n",
    "from tflite_model_maker.image_classifier import DataLoader\n",
    "\n",
    "import tensorflow as tf\n",
    "assert tf.__version__.startswith('2')\n",
    "\n",
    "import matplotlib.pyplot as plt\n",
    "import numpy as np"
   ]
  },
  {
   "cell_type": "code",
   "execution_count": 2,
   "id": "4b432880",
   "metadata": {},
   "outputs": [],
   "source": [
    "import warnings\n",
    "warnings.filterwarnings('ignore')"
   ]
  },
  {
   "cell_type": "code",
   "execution_count": 3,
   "id": "ddaa2ce2",
   "metadata": {},
   "outputs": [
    {
     "name": "stdout",
     "output_type": "stream",
     "text": [
      "INFO:tensorflow:Load image with size: 497, num_label: 5, labels: Harry_Potter_and_the_Goblet_of_Fire, Harry_Potter_and_the_Half_Blood_Prince, Harry_Potter_and_the_Order_of_the_Phoenix, Harry_Potter_and_the_Prisoner_of_Azkaban, Harry_Potter_and_the_Sorcerer_s_Stone.\n"
     ]
    }
   ],
   "source": [
    "IMAGE_PATH = r\"C:\\Users\\offco\\Documents\\Dev_Projects\\BookCoverClassifier\\Datasets\\Test_Run\\Test_Augment\"\n",
    "data = DataLoader.from_folder(IMAGE_PATH)\n",
    "train_data, test_data = data.split(0.85)\n",
    "val_data, test_data = test_data.split(0.5)"
   ]
  },
  {
   "cell_type": "code",
   "execution_count": 4,
   "id": "a0460ee5",
   "metadata": {},
   "outputs": [
    {
     "name": "stdout",
     "output_type": "stream",
     "text": [
      "INFO:tensorflow:Retraining the models...\n",
      "Model: \"sequential\"\n",
      "_________________________________________________________________\n",
      " Layer (type)                Output Shape              Param #   \n",
      "=================================================================\n",
      " hub_keras_layer_v1v2 (HubKe  (None, 1280)             3413024   \n",
      " rasLayerV1V2)                                                   \n",
      "                                                                 \n",
      " dropout (Dropout)           (None, 1280)              0         \n",
      "                                                                 \n",
      " dense (Dense)               (None, 5)                 6405      \n",
      "                                                                 \n",
      "=================================================================\n",
      "Total params: 3,419,429\n",
      "Trainable params: 6,405\n",
      "Non-trainable params: 3,413,024\n",
      "_________________________________________________________________\n",
      "None\n",
      "Epoch 1/50\n",
      "6/6 [==============================] - 5s 187ms/step - loss: 1.4604 - accuracy: 0.3932 - val_loss: 1.0167 - val_accuracy: 0.6486\n",
      "Epoch 2/50\n",
      "6/6 [==============================] - 0s 66ms/step - loss: 0.7553 - accuracy: 0.8984 - val_loss: 0.5114 - val_accuracy: 1.0000\n",
      "Epoch 3/50\n",
      "6/6 [==============================] - 0s 67ms/step - loss: 0.4784 - accuracy: 0.9974 - val_loss: 0.4351 - val_accuracy: 1.0000\n",
      "Epoch 4/50\n",
      "6/6 [==============================] - 0s 64ms/step - loss: 0.4541 - accuracy: 1.0000 - val_loss: 0.4430 - val_accuracy: 1.0000\n",
      "Epoch 5/50\n",
      "6/6 [==============================] - 0s 64ms/step - loss: 0.4590 - accuracy: 1.0000 - val_loss: 0.4508 - val_accuracy: 1.0000\n",
      "Epoch 6/50\n",
      "6/6 [==============================] - 0s 63ms/step - loss: 0.4640 - accuracy: 1.0000 - val_loss: 0.4499 - val_accuracy: 1.0000\n",
      "Epoch 7/50\n",
      "6/6 [==============================] - 0s 67ms/step - loss: 0.4602 - accuracy: 1.0000 - val_loss: 0.4428 - val_accuracy: 1.0000\n",
      "Epoch 8/50\n",
      "6/6 [==============================] - 0s 65ms/step - loss: 0.4542 - accuracy: 1.0000 - val_loss: 0.4329 - val_accuracy: 1.0000\n",
      "Epoch 9/50\n",
      "6/6 [==============================] - 0s 63ms/step - loss: 0.4431 - accuracy: 1.0000 - val_loss: 0.4238 - val_accuracy: 1.0000\n",
      "Epoch 10/50\n",
      "6/6 [==============================] - 0s 73ms/step - loss: 0.4372 - accuracy: 1.0000 - val_loss: 0.4171 - val_accuracy: 1.0000\n",
      "Epoch 11/50\n",
      "6/6 [==============================] - 0s 67ms/step - loss: 0.4275 - accuracy: 1.0000 - val_loss: 0.4129 - val_accuracy: 1.0000\n",
      "Epoch 12/50\n",
      "6/6 [==============================] - 0s 65ms/step - loss: 0.4252 - accuracy: 1.0000 - val_loss: 0.4104 - val_accuracy: 1.0000\n",
      "Epoch 13/50\n",
      "6/6 [==============================] - 0s 66ms/step - loss: 0.4268 - accuracy: 1.0000 - val_loss: 0.4091 - val_accuracy: 1.0000\n",
      "Epoch 14/50\n",
      "6/6 [==============================] - 0s 67ms/step - loss: 0.4228 - accuracy: 1.0000 - val_loss: 0.4083 - val_accuracy: 1.0000\n",
      "Epoch 15/50\n",
      "6/6 [==============================] - 0s 63ms/step - loss: 0.4247 - accuracy: 1.0000 - val_loss: 0.4075 - val_accuracy: 1.0000\n",
      "Epoch 16/50\n",
      "6/6 [==============================] - 0s 65ms/step - loss: 0.4212 - accuracy: 1.0000 - val_loss: 0.4071 - val_accuracy: 1.0000\n",
      "Epoch 17/50\n",
      "6/6 [==============================] - 0s 71ms/step - loss: 0.4192 - accuracy: 1.0000 - val_loss: 0.4068 - val_accuracy: 1.0000\n",
      "Epoch 18/50\n",
      "6/6 [==============================] - 0s 70ms/step - loss: 0.4207 - accuracy: 1.0000 - val_loss: 0.4066 - val_accuracy: 1.0000\n",
      "Epoch 19/50\n",
      "6/6 [==============================] - 0s 70ms/step - loss: 0.4203 - accuracy: 1.0000 - val_loss: 0.4064 - val_accuracy: 1.0000\n",
      "Epoch 20/50\n",
      "6/6 [==============================] - 0s 69ms/step - loss: 0.4189 - accuracy: 1.0000 - val_loss: 0.4056 - val_accuracy: 1.0000\n",
      "Epoch 21/50\n",
      "6/6 [==============================] - 0s 70ms/step - loss: 0.4178 - accuracy: 1.0000 - val_loss: 0.4051 - val_accuracy: 1.0000\n",
      "Epoch 22/50\n",
      "6/6 [==============================] - 0s 68ms/step - loss: 0.4189 - accuracy: 1.0000 - val_loss: 0.4050 - val_accuracy: 1.0000\n",
      "Epoch 23/50\n",
      "6/6 [==============================] - 0s 70ms/step - loss: 0.4199 - accuracy: 1.0000 - val_loss: 0.4048 - val_accuracy: 1.0000\n",
      "Epoch 24/50\n",
      "6/6 [==============================] - 0s 68ms/step - loss: 0.4171 - accuracy: 1.0000 - val_loss: 0.4046 - val_accuracy: 1.0000\n",
      "Epoch 25/50\n",
      "6/6 [==============================] - 0s 65ms/step - loss: 0.4166 - accuracy: 1.0000 - val_loss: 0.4046 - val_accuracy: 1.0000\n",
      "Epoch 26/50\n",
      "6/6 [==============================] - 0s 67ms/step - loss: 0.4174 - accuracy: 1.0000 - val_loss: 0.4045 - val_accuracy: 1.0000\n",
      "Epoch 27/50\n",
      "6/6 [==============================] - 0s 67ms/step - loss: 0.4169 - accuracy: 1.0000 - val_loss: 0.4044 - val_accuracy: 1.0000\n",
      "Epoch 28/50\n",
      "6/6 [==============================] - 0s 70ms/step - loss: 0.4166 - accuracy: 1.0000 - val_loss: 0.4042 - val_accuracy: 1.0000\n",
      "Epoch 29/50\n",
      "6/6 [==============================] - 0s 64ms/step - loss: 0.4144 - accuracy: 1.0000 - val_loss: 0.4039 - val_accuracy: 1.0000\n",
      "Epoch 30/50\n",
      "6/6 [==============================] - 0s 69ms/step - loss: 0.4165 - accuracy: 1.0000 - val_loss: 0.4038 - val_accuracy: 1.0000\n",
      "Epoch 31/50\n",
      "6/6 [==============================] - 0s 69ms/step - loss: 0.4154 - accuracy: 1.0000 - val_loss: 0.4037 - val_accuracy: 1.0000\n",
      "Epoch 32/50\n",
      "6/6 [==============================] - 0s 68ms/step - loss: 0.4165 - accuracy: 1.0000 - val_loss: 0.4036 - val_accuracy: 1.0000\n",
      "Epoch 33/50\n",
      "6/6 [==============================] - 0s 69ms/step - loss: 0.4128 - accuracy: 1.0000 - val_loss: 0.4036 - val_accuracy: 1.0000\n",
      "Epoch 34/50\n",
      "6/6 [==============================] - 0s 64ms/step - loss: 0.4141 - accuracy: 1.0000 - val_loss: 0.4035 - val_accuracy: 1.0000\n",
      "Epoch 35/50\n",
      "6/6 [==============================] - 0s 67ms/step - loss: 0.4149 - accuracy: 1.0000 - val_loss: 0.4032 - val_accuracy: 1.0000\n",
      "Epoch 36/50\n",
      "6/6 [==============================] - 0s 67ms/step - loss: 0.4135 - accuracy: 1.0000 - val_loss: 0.4031 - val_accuracy: 1.0000\n",
      "Epoch 37/50\n",
      "6/6 [==============================] - 0s 66ms/step - loss: 0.4138 - accuracy: 1.0000 - val_loss: 0.4029 - val_accuracy: 1.0000\n",
      "Epoch 38/50\n",
      "6/6 [==============================] - 0s 66ms/step - loss: 0.4144 - accuracy: 1.0000 - val_loss: 0.4029 - val_accuracy: 1.0000\n",
      "Epoch 39/50\n",
      "6/6 [==============================] - 0s 66ms/step - loss: 0.4117 - accuracy: 1.0000 - val_loss: 0.4031 - val_accuracy: 1.0000\n",
      "Epoch 40/50\n",
      "6/6 [==============================] - 0s 67ms/step - loss: 0.4124 - accuracy: 1.0000 - val_loss: 0.4031 - val_accuracy: 1.0000\n",
      "Epoch 41/50\n",
      "6/6 [==============================] - 0s 68ms/step - loss: 0.4116 - accuracy: 1.0000 - val_loss: 0.4027 - val_accuracy: 1.0000\n",
      "Epoch 42/50\n",
      "6/6 [==============================] - 0s 68ms/step - loss: 0.4142 - accuracy: 1.0000 - val_loss: 0.4025 - val_accuracy: 1.0000\n",
      "Epoch 43/50\n",
      "6/6 [==============================] - 0s 65ms/step - loss: 0.4154 - accuracy: 1.0000 - val_loss: 0.4024 - val_accuracy: 1.0000\n",
      "Epoch 44/50\n",
      "6/6 [==============================] - 0s 65ms/step - loss: 0.4128 - accuracy: 1.0000 - val_loss: 0.4023 - val_accuracy: 1.0000\n",
      "Epoch 45/50\n",
      "6/6 [==============================] - 0s 66ms/step - loss: 0.4115 - accuracy: 1.0000 - val_loss: 0.4023 - val_accuracy: 1.0000\n",
      "Epoch 46/50\n",
      "6/6 [==============================] - 0s 63ms/step - loss: 0.4123 - accuracy: 1.0000 - val_loss: 0.4021 - val_accuracy: 1.0000\n",
      "Epoch 47/50\n",
      "6/6 [==============================] - 0s 72ms/step - loss: 0.4127 - accuracy: 1.0000 - val_loss: 0.4018 - val_accuracy: 1.0000\n",
      "Epoch 48/50\n",
      "6/6 [==============================] - 0s 65ms/step - loss: 0.4112 - accuracy: 1.0000 - val_loss: 0.4018 - val_accuracy: 1.0000\n",
      "Epoch 49/50\n",
      "6/6 [==============================] - 0s 66ms/step - loss: 0.4104 - accuracy: 1.0000 - val_loss: 0.4020 - val_accuracy: 1.0000\n",
      "Epoch 50/50\n",
      "6/6 [==============================] - 0s 65ms/step - loss: 0.4125 - accuracy: 1.0000 - val_loss: 0.4020 - val_accuracy: 1.0000\n"
     ]
    }
   ],
   "source": [
    "model = image_classifier.create(train_data, validation_data=val_data, epochs=50, batch_size=64)"
   ]
  },
  {
   "cell_type": "code",
   "execution_count": 5,
   "id": "2f9b9675",
   "metadata": {
    "scrolled": true
   },
   "outputs": [
    {
     "name": "stdout",
     "output_type": "stream",
     "text": [
      "2/2 [==============================] - 0s 142ms/step - loss: 0.4069 - accuracy: 1.0000\n"
     ]
    }
   ],
   "source": [
    "loss, accuracy = model.evaluate(test_data)"
   ]
  },
  {
   "cell_type": "code",
   "execution_count": 6,
   "id": "778d3f92",
   "metadata": {},
   "outputs": [
    {
     "name": "stdout",
     "output_type": "stream",
     "text": [
      "INFO:tensorflow:Load image with size: 2, num_label: 2, labels: Harry_Potter_and_the_Half_Blood_Prince, Harry_Potter_and_the_Order_of_the_Phoenix.\n"
     ]
    },
    {
     "name": "stderr",
     "output_type": "stream",
     "text": [
      "INFO:tensorflow:Load image with size: 2, num_label: 2, labels: Harry_Potter_and_the_Half_Blood_Prince, Harry_Potter_and_the_Order_of_the_Phoenix.\n"
     ]
    },
    {
     "name": "stdout",
     "output_type": "stream",
     "text": [
      "IMG1: LABEL: Harry_Potter_and_the_Half_Blood_Prince, PREDICTED: Harry_Potter_and_the_Half_Blood_Prince, RESULT: True\n",
      "IMG1: LABEL: Harry_Potter_and_the_Order_of_the_Phoenix, PREDICTED: Harry_Potter_and_the_Order_of_the_Phoenix, RESULT: True\n"
     ]
    }
   ],
   "source": [
    "import matplotlib.pyplot as plt\n",
    "\n",
    "def eval_label(val1, val2):\n",
    "    if val1 == val2: return True\n",
    "    else: return False\n",
    "    \n",
    "TEST = DataLoader.from_folder(r\"C:\\Users\\offco\\Documents\\Dev_Projects\\BookCoverClassifier\\Datasets\\Test_Run\\Predict_Images\")\n",
    "IMG1_LABEL = \"Harry_Potter_and_the_Half_Blood_Prince\"\n",
    "IMG2_LABEL = \"Harry_Potter_and_the_Order_of_the_Phoenix\"\n",
    "\n",
    "pred = model.predict_top_k(TEST)\n",
    "pred1_label = pred[0][0][0]\n",
    "pred2_label = pred[1][0][0]\n",
    "\n",
    "print(f\"IMG1: LABEL: {IMG1_LABEL}, PREDICTED: {pred1_label}, RESULT: {eval_label(IMG1_LABEL, pred1_label)}\")\n",
    "print(f\"IMG1: LABEL: {IMG2_LABEL}, PREDICTED: {pred2_label}, RESULT: {eval_label(IMG2_LABEL, pred2_label)}\")"
   ]
  },
  {
   "cell_type": "code",
   "execution_count": 8,
   "id": "d340ff34",
   "metadata": {},
   "outputs": [
    {
     "name": "stdout",
     "output_type": "stream",
     "text": [
      "Model: \"sequential\"\n",
      "_________________________________________________________________\n",
      " Layer (type)                Output Shape              Param #   \n",
      "=================================================================\n",
      " hub_keras_layer_v1v2 (HubKe  (None, 1280)             3413024   \n",
      " rasLayerV1V2)                                                   \n",
      "                                                                 \n",
      " dropout (Dropout)           (None, 1280)              0         \n",
      "                                                                 \n",
      " dense (Dense)               (None, 5)                 6405      \n",
      "                                                                 \n",
      "=================================================================\n",
      "Total params: 3,419,429\n",
      "Trainable params: 6,405\n",
      "Non-trainable params: 3,413,024\n",
      "_________________________________________________________________\n"
     ]
    }
   ],
   "source": [
    "model.summary()"
   ]
  },
  {
   "cell_type": "code",
   "execution_count": 14,
   "id": "e02cd178",
   "metadata": {},
   "outputs": [
    {
     "name": "stdout",
     "output_type": "stream",
     "text": [
      "INFO:tensorflow:Assets written to: C:\\Users\\offco\\AppData\\Local\\Temp\\tmp2dwj59ek\\assets\n"
     ]
    },
    {
     "name": "stderr",
     "output_type": "stream",
     "text": [
      "INFO:tensorflow:Assets written to: C:\\Users\\offco\\AppData\\Local\\Temp\\tmp2dwj59ek\\assets\n"
     ]
    },
    {
     "name": "stdout",
     "output_type": "stream",
     "text": [
      "INFO:tensorflow:Label file is inside the TFLite model with metadata.\n"
     ]
    },
    {
     "name": "stderr",
     "output_type": "stream",
     "text": [
      "INFO:tensorflow:Label file is inside the TFLite model with metadata.\n"
     ]
    },
    {
     "name": "stdout",
     "output_type": "stream",
     "text": [
      "INFO:tensorflow:Saving labels in C:\\Users\\offco\\AppData\\Local\\Temp\\tmpiliyk73z\\labels.txt\n"
     ]
    },
    {
     "name": "stderr",
     "output_type": "stream",
     "text": [
      "INFO:tensorflow:Saving labels in C:\\Users\\offco\\AppData\\Local\\Temp\\tmpiliyk73z\\labels.txt\n"
     ]
    },
    {
     "name": "stdout",
     "output_type": "stream",
     "text": [
      "INFO:tensorflow:TensorFlow Lite model exported successfully: C:\\Users\\offco\\Documents\\Dev_Projects\\BookCoverClassifier\\Test_Run\\model.tflite\n"
     ]
    },
    {
     "name": "stderr",
     "output_type": "stream",
     "text": [
      "INFO:tensorflow:TensorFlow Lite model exported successfully: C:\\Users\\offco\\Documents\\Dev_Projects\\BookCoverClassifier\\Test_Run\\model.tflite\n"
     ]
    }
   ],
   "source": [
    "SAVE_PATH = r\"C:\\Users\\offco\\Documents\\Dev_Projects\\BookCoverClassifier\\Test_Run\"\n",
    "model.export(export_dir=SAVE_PATH)"
   ]
  },
  {
   "cell_type": "code",
   "execution_count": null,
   "id": "7eddcb66",
   "metadata": {},
   "outputs": [],
   "source": []
  }
 ],
 "metadata": {
  "kernelspec": {
   "display_name": "Python 3 (ipykernel)",
   "language": "python",
   "name": "python3"
  },
  "language_info": {
   "codemirror_mode": {
    "name": "ipython",
    "version": 3
   },
   "file_extension": ".py",
   "mimetype": "text/x-python",
   "name": "python",
   "nbconvert_exporter": "python",
   "pygments_lexer": "ipython3",
   "version": "3.8.12"
  }
 },
 "nbformat": 4,
 "nbformat_minor": 5
}

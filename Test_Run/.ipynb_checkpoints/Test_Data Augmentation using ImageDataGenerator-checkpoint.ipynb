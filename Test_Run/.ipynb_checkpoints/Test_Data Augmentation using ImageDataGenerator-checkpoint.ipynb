{
 "cells": [
  {
   "cell_type": "code",
   "execution_count": 1,
   "id": "3a6f2cdf",
   "metadata": {},
   "outputs": [],
   "source": [
    "import os\n",
    "import numpy as np\n",
    "from PIL import Image\n",
    "\n",
    "from keras.preprocessing.image import ImageDataGenerator\n",
    "from skimage import io"
   ]
  },
  {
   "cell_type": "code",
   "execution_count": 2,
   "id": "bd8ab560",
   "metadata": {},
   "outputs": [],
   "source": [
    "data_generator = ImageDataGenerator(\n",
    "    rotation_range=90,\n",
    "    width_shift_range=0.5,\n",
    "    height_shift_range=0.5,\n",
    "    shear_range=0.3,\n",
    "    zoom_range=0.2,\n",
    "    horizontal_flip=True,\n",
    "    fill_mode='reflect'\n",
    ")"
   ]
  },
  {
   "cell_type": "code",
   "execution_count": 3,
   "id": "08dc78a7",
   "metadata": {},
   "outputs": [],
   "source": [
    "ORIGINAL_IMAGE_FOLDER_PATH = r\"C:\\Users\\offco\\Documents\\Dev_Projects\\BookCoverClassifier\\Datasets\\Test_Run\\Cover_Images\"\n",
    "AUGMENT_SAVE_PATH = r\"C:\\Users\\offco\\Documents\\Dev_Projects\\BookCoverClassifier\\Datasets\\Test_Run\\Test_Augment\"\n",
    "SIZE = 256\n",
    "images = []\n",
    "\n",
    "for image_name in os.listdir(ORIGINAL_IMAGE_FOLDER_PATH):\n",
    "    if (image_name.split('.')[-1] == 'jpg'):\n",
    "        image = io.imread(ORIGINAL_IMAGE_FOLDER_PATH + '/' + image_name)\n",
    "        image = Image.fromarray(image, 'RGB')\n",
    "        image = np.array(image.resize((SIZE, SIZE)))\n",
    "        image = image.reshape((1, ) + image.shape)\n",
    "        \n",
    "        SAVE = AUGMENT_SAVE_PATH + '/' + image_name.split('.')[1]\n",
    "        \n",
    "        try:\n",
    "            os.mkdir(SAVE)\n",
    "        except FileExistsError:\n",
    "            pass\n",
    "        \n",
    "        i = 0\n",
    "        for batch in data_generator.flow(\n",
    "            image, \n",
    "            batch_size=16,\n",
    "            save_to_dir=SAVE,\n",
    "            save_prefix='aug',\n",
    "            save_format='png'\n",
    "        ):\n",
    "            i += 1\n",
    "            if i > 50: break"
   ]
  },
  {
   "cell_type": "code",
   "execution_count": null,
   "id": "17a31ef8",
   "metadata": {},
   "outputs": [],
   "source": []
  }
 ],
 "metadata": {
  "kernelspec": {
   "display_name": "Python 3 (ipykernel)",
   "language": "python",
   "name": "python3"
  },
  "language_info": {
   "codemirror_mode": {
    "name": "ipython",
    "version": 3
   },
   "file_extension": ".py",
   "mimetype": "text/x-python",
   "name": "python",
   "nbconvert_exporter": "python",
   "pygments_lexer": "ipython3",
   "version": "3.8.12"
  }
 },
 "nbformat": 4,
 "nbformat_minor": 5
}

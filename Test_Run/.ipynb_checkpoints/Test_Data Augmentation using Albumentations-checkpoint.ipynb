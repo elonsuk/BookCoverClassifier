{
 "cells": [
  {
   "cell_type": "code",
   "execution_count": 1,
   "id": "0c7fbf82",
   "metadata": {},
   "outputs": [],
   "source": [
    "import albumentations as A\n",
    "from PIL import Image\n",
    "import os\n",
    "import numpy as np\n",
    "import cv2"
   ]
  },
  {
   "cell_type": "code",
   "execution_count": 4,
   "id": "f507f0c4",
   "metadata": {},
   "outputs": [],
   "source": [
    "IMAGE_PATH = r\"C:\\Users\\offco\\Documents\\Dev_Projects\\BookCoverClassifier\\Datasets\\Test_Run\\Cover_Images\"\n",
    "AUGMENT_SAVE_PATH = r\"C:\\Users\\offco\\Documents\\Dev_Projects\\BookCoverClassifier\\Datasets\\Test_Run\\Test_Augment\"\n",
    "\n",
    "AUGMENT_COUNT = 100\n",
    "\n",
    "transform = A.Compose([\n",
    "    A.RandomCrop(width=256, height=256),\n",
    "    A.ShiftScaleRotate(shift_limit=0.05, scale_limit=0.05, rotate_limit=45, p=0.75, border_mode=cv2.BORDER_CONSTANT),\n",
    "    A.OneOf([\n",
    "        A.HorizontalFlip(p=1),\n",
    "        A.VerticalFlip(p=1)\n",
    "    ], p=1),\n",
    "    A.RGBShift(r_shift_limit=25, g_shift_limit=25, b_shift_limit=25),\n",
    "    A.OneOf([\n",
    "        A.Blur(p=1),\n",
    "        A.OpticalDistortion(p=1),\n",
    "        A.GaussNoise(p=1)\n",
    "    ], p=1)\n",
    "])\n",
    "\n",
    "for folder in os.listdir(IMAGE_PATH):\n",
    "    count = 0\n",
    "    for image_name in os.listdir(f\"{IMAGE_PATH}\\{folder}\"):\n",
    "        image = Image.open(f\"{IMAGE_PATH}\\{folder}\\{image_name}\")\n",
    "        image = np.array(image)\n",
    "\n",
    "        SAVE = f\"{AUGMENT_SAVE_PATH}\\{folder}\"\n",
    "\n",
    "        try: os.mkdir(SAVE)\n",
    "        except FileExistsError: pass\n",
    "\n",
    "        for i in range(AUGMENT_COUNT):\n",
    "            aug = transform(image=image)\n",
    "            aug_img = Image.fromarray(aug[\"image\"])\n",
    "            aug_img.save(f\"{SAVE}\\img{count}-{i}.png\")\n",
    "        \n",
    "        count += 1"
   ]
  },
  {
   "cell_type": "code",
   "execution_count": null,
   "id": "4c0272da",
   "metadata": {},
   "outputs": [],
   "source": []
  }
 ],
 "metadata": {
  "kernelspec": {
   "display_name": "Python 3 (ipykernel)",
   "language": "python",
   "name": "python3"
  },
  "language_info": {
   "codemirror_mode": {
    "name": "ipython",
    "version": 3
   },
   "file_extension": ".py",
   "mimetype": "text/x-python",
   "name": "python",
   "nbconvert_exporter": "python",
   "pygments_lexer": "ipython3",
   "version": "3.9.7"
  }
 },
 "nbformat": 4,
 "nbformat_minor": 5
}

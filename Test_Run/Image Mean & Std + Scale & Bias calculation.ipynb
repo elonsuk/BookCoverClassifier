{
 "cells": [
  {
   "cell_type": "code",
   "execution_count": 1,
   "id": "8a06232c",
   "metadata": {},
   "outputs": [],
   "source": [
    "import os\n",
    "import torch\n",
    "import torchvision\n",
    "import torchvision.transforms as transforms"
   ]
  },
  {
   "cell_type": "code",
   "execution_count": 2,
   "id": "db3f809e",
   "metadata": {},
   "outputs": [],
   "source": [
    "IMAGE_PATH = r\"C:\\Users\\offco\\Documents\\Dev_Projects\\BookCoverClassifier\\Datasets\\Test_Run\\Test_Augment\""
   ]
  },
  {
   "cell_type": "code",
   "execution_count": 3,
   "id": "56c7e04b",
   "metadata": {},
   "outputs": [],
   "source": [
    "transform_images = transforms.Compose([transforms.Resize((256, 256)), transforms.ToTensor()])\n",
    "image_dataset = torchvision.datasets.ImageFolder(root=IMAGE_PATH, transform=transform_images)\n",
    "image_loader = torch.utils.data.DataLoader(dataset=image_dataset, batch_size=32, shuffle=False)"
   ]
  },
  {
   "cell_type": "code",
   "execution_count": 4,
   "id": "36d4ffe8",
   "metadata": {},
   "outputs": [],
   "source": [
    "def get_mean_and_std(loader):\n",
    "    mean, std = 0., 0.\n",
    "    images_count = 0\n",
    "    \n",
    "    for images, _ in loader:\n",
    "        image_count_per_batch = images.size(0)\n",
    "        images = images.view(image_count_per_batch, images.size(1), -1)\n",
    "        \n",
    "        mean += images.mean(2).sum(0)\n",
    "        std += images.std(2).sum(0)\n",
    "        images_count += image_count_per_batch\n",
    "        \n",
    "    mean /= images_count\n",
    "    std /= images_count\n",
    "    \n",
    "    return [mean, std]"
   ]
  },
  {
   "cell_type": "code",
   "execution_count": 5,
   "id": "6ca2e6df",
   "metadata": {},
   "outputs": [
    {
     "name": "stdout",
     "output_type": "stream",
     "text": [
      "Mean: tensor([0.3979, 0.3628, 0.3351]), Std: tensor([0.3045, 0.2798, 0.2624])\n"
     ]
    }
   ],
   "source": [
    "mean, std = get_mean_and_std(image_loader)\n",
    "print(f\"Mean: {mean}, Std: {std}\")"
   ]
  },
  {
   "cell_type": "code",
   "execution_count": 6,
   "id": "c3cca3a3",
   "metadata": {},
   "outputs": [
    {
     "name": "stdout",
     "output_type": "stream",
     "text": [
      "Scale: [0.012880085675688343, 0.014014329774685816, 0.014946450333904364], Bias: [-1.306878843942246, -1.2966154350815122, -1.2772324090765041]\n"
     ]
    }
   ],
   "source": [
    "mean, std = mean.tolist(), std.tolist()\n",
    "scale, bias = [1.0/255/s for s in std], [-m/s for m, s in zip(mean, std)]\n",
    "print(f\"Scale: {scale}, Bias: {bias}\")"
   ]
  },
  {
   "cell_type": "code",
   "execution_count": null,
   "id": "cc8a127a",
   "metadata": {},
   "outputs": [],
   "source": []
  }
 ],
 "metadata": {
  "kernelspec": {
   "display_name": "Python 3 (ipykernel)",
   "language": "python",
   "name": "python3"
  },
  "language_info": {
   "codemirror_mode": {
    "name": "ipython",
    "version": 3
   },
   "file_extension": ".py",
   "mimetype": "text/x-python",
   "name": "python",
   "nbconvert_exporter": "python",
   "pygments_lexer": "ipython3",
   "version": "3.9.12"
  }
 },
 "nbformat": 4,
 "nbformat_minor": 5
}

{
 "cells": [
  {
   "cell_type": "code",
   "execution_count": 1,
   "id": "bf3345bf",
   "metadata": {},
   "outputs": [],
   "source": [
    "import albumentations as A\n",
    "from PIL import Image\n",
    "import os\n",
    "import numpy as np\n",
    "import cv2\n",
    "from tqdm import tqdm"
   ]
  },
  {
   "cell_type": "code",
   "execution_count": 6,
   "id": "27657506",
   "metadata": {},
   "outputs": [
    {
     "name": "stderr",
     "output_type": "stream",
     "text": [
      "100%|████████████████████████████████████████████████████████████████████████████████████| 7/7 [10:42<00:00, 91.75s/it]\n"
     ]
    }
   ],
   "source": [
    "IMAGE_PATH = r\"C:\\Users\\offco\\Documents\\Dev_Projects\\BookCoverClassifier\\Datasets\\Test_Run\\Cover_Images\"\n",
    "AUGMENT_SAVE_PATH = r\"C:\\Users\\offco\\Documents\\Dev_Projects\\BookCoverClassifier\\Datasets\\Test_Run\\Test_Augment\"\n",
    "\n",
    "AUGMENT_COUNT = 100\n",
    "N = 256\n",
    "\n",
    "transform = A.Compose([\n",
    "    A.LongestMaxSize(max_size=N, interpolation=1),\n",
    "    A.PadIfNeeded(min_height=N, min_width=N, border_mode=0, value=(0,0,0)),\n",
    "    A.ShiftScaleRotate(shift_limit=0.05, scale_limit=0.05, rotate_limit=45, p=0.75, border_mode=cv2.BORDER_CONSTANT),\n",
    "    A.OneOf([\n",
    "        A.HorizontalFlip(p=1),\n",
    "        A.VerticalFlip(p=1)\n",
    "    ], p=1),\n",
    "    A.RGBShift(r_shift_limit=10, g_shift_limit=10, b_shift_limit=10),\n",
    "    A.OneOf([\n",
    "        A.Blur(p=1),\n",
    "        A.OpticalDistortion(p=1),\n",
    "        A.GaussNoise(p=1)\n",
    "    ], p=1)\n",
    "])\n",
    "\n",
    "for folder in tqdm(os.listdir(IMAGE_PATH)):\n",
    "    count = 0\n",
    "    for image_name in os.listdir(f\"{IMAGE_PATH}\\{folder}\"):\n",
    "        image = Image.open(f\"{IMAGE_PATH}\\{folder}\\{image_name}\")\n",
    "        image = np.array(image)\n",
    "\n",
    "        SAVE = f\"{AUGMENT_SAVE_PATH}\\{folder}\"\n",
    "\n",
    "        try: os.mkdir(SAVE)\n",
    "        except FileExistsError: pass\n",
    "\n",
    "        for i in range(AUGMENT_COUNT):\n",
    "            aug = transform(image=image)\n",
    "            aug_img = Image.fromarray(aug[\"image\"])\n",
    "            aug_img.save(f\"{SAVE}\\img{count}-{i}.png\")\n",
    "        \n",
    "        count += 1"
   ]
  },
  {
   "cell_type": "code",
   "execution_count": 2,
   "id": "920e5075",
   "metadata": {},
   "outputs": [
    {
     "data": {
      "text/plain": [
       "['Harry Potter And The Chamber Of Secrets',\n",
       " 'Harry Potter And The Deathly Hallows',\n",
       " 'Harry Potter And The Goblet Of Fire',\n",
       " 'Harry Potter And The Half Blood Prince',\n",
       " 'Harry Potter And The Order Of The Phoenix',\n",
       " 'Harry Potter And The Prisoner Of Azkaban',\n",
       " \"Harry Potter And The Sorcerer's Stone\"]"
      ]
     },
     "execution_count": 2,
     "metadata": {},
     "output_type": "execute_result"
    }
   ],
   "source": [
    "os.listdir(r\"C:\\Users\\offco\\Documents\\Dev_Projects\\BookCoverClassifier\\Datasets\\Test_Run\\Cover_Images\")"
   ]
  },
  {
   "cell_type": "code",
   "execution_count": null,
   "id": "cf1f8dd4",
   "metadata": {},
   "outputs": [],
   "source": []
  }
 ],
 "metadata": {
  "kernelspec": {
   "display_name": "Python 3 (ipykernel)",
   "language": "python",
   "name": "python3"
  },
  "language_info": {
   "codemirror_mode": {
    "name": "ipython",
    "version": 3
   },
   "file_extension": ".py",
   "mimetype": "text/x-python",
   "name": "python",
   "nbconvert_exporter": "python",
   "pygments_lexer": "ipython3",
   "version": "3.9.12"
  }
 },
 "nbformat": 4,
 "nbformat_minor": 5
}

{
 "cells": [
  {
   "cell_type": "code",
   "execution_count": 1,
   "id": "d33538e1",
   "metadata": {},
   "outputs": [],
   "source": [
    "import torchvision\n",
    "import torch\n",
    "import torchvision.transforms as transforms\n",
    "import os\n",
    "import numpy as np\n",
    "import matplotlib.pyplot as plt\n",
    "from tqdm import tqdm"
   ]
  },
  {
   "cell_type": "code",
   "execution_count": 2,
   "id": "d9eb06a3",
   "metadata": {},
   "outputs": [],
   "source": [
    "DATA_PATH = r\"C:\\Users\\offco\\Documents\\Dev_Projects\\BookCoverClassifier\\Datasets\\Augment\"\n",
    "CHECKPOINT_PATH = r\"C:\\Users\\offco\\Documents\\Dev_Projects\\BookCoverClassifier\\Models\\PyTorch ResNet18 Model\"\n",
    "ONNX_SAVE_PATH = r\"C:\\Users\\offco\\Documents\\Dev_Projects\\BookCoverClassifier\\Models\\Quantized Model\\pytorch_resnet18.onnx\"\n",
    "NUM_CLASSES = 199\n",
    "TRAIN_EPOCHS = 150"
   ]
  },
  {
   "cell_type": "code",
   "execution_count": 3,
   "id": "1714a7c7",
   "metadata": {},
   "outputs": [],
   "source": [
    "mean = [0.3882, 0.3525, 0.3215]\n",
    "std = [0.3120, 0.2901, 0.2704]\n",
    "\n",
    "transform = transforms.Compose([\n",
    "    transforms.ToTensor(),\n",
    "    transforms.Normalize(torch.Tensor(mean), torch.Tensor(std)),\n",
    "])\n",
    "\n",
    "data = torchvision.datasets.ImageFolder(root=DATA_PATH, transform=transform)\n",
    "\n",
    "train_size = int(0.85 * len(data))\n",
    "test_size = len(data) - train_size\n",
    "train_data, test_data = torch.utils.data.random_split(data, [train_size, test_size])"
   ]
  },
  {
   "cell_type": "code",
   "execution_count": 4,
   "id": "ec823c24",
   "metadata": {},
   "outputs": [],
   "source": [
    "train_loader = torch.utils.data.DataLoader(train_data, batch_size=32, shuffle=True, num_workers=4, pin_memory=True)\n",
    "test_loader = torch.utils.data.DataLoader(test_data, batch_size=32, shuffle=False, num_workers=4, pin_memory=True)"
   ]
  },
  {
   "cell_type": "code",
   "execution_count": 5,
   "id": "782d0e3c",
   "metadata": {},
   "outputs": [],
   "source": [
    "import torchvision.models as models\n",
    "import torch.nn as nn\n",
    "import torch.optim as optim"
   ]
  },
  {
   "cell_type": "code",
   "execution_count": 6,
   "id": "b34ecd41",
   "metadata": {},
   "outputs": [],
   "source": [
    "def set_device():\n",
    "    if torch.cuda.is_available(): dev = 'cuda:0'\n",
    "    else: dev = 'cpu'\n",
    "    \n",
    "    return torch.device(dev)\n",
    "\n",
    "def evaluate_model(model, test_loader):\n",
    "    model.eval()\n",
    "    \n",
    "    predicted_correctly_on_epoch = 0\n",
    "    total = 0\n",
    "    \n",
    "    device = set_device()\n",
    "    \n",
    "    with torch.no_grad():\n",
    "        for data in test_loader:\n",
    "            images, labels = data\n",
    "            images, labels = images.to(device), labels.to(device)\n",
    "            total += labels.size(0)\n",
    "            \n",
    "            outputs = model(images)\n",
    "            _, predicted = torch.max(outputs.data, 1)\n",
    "            \n",
    "            predicted_correctly_on_epoch += (predicted == labels).sum().item()\n",
    "    \n",
    "    epoch_acc = 100.0 * (predicted_correctly_on_epoch / total)\n",
    "    print(f\"Testing dataset: {int(predicted_correctly_on_epoch)} out of {total} correct. Accuracy: {round(epoch_acc, 3)}\")\n",
    "    \n",
    "    return epoch_acc\n",
    "\n",
    "def save_checkpoint(model, epoch, optimizer, best_acc):\n",
    "    state = {\n",
    "        'epoch': epoch+1,\n",
    "        'model': model.state_dict(),\n",
    "        'best accuracy': best_acc,\n",
    "        'optimizer': optimizer.state_dict()\n",
    "    }\n",
    "    \n",
    "    torch.save(state, f'{CHECKPOINT_PATH}\\model_best_checkpoint.pth.tar')"
   ]
  },
  {
   "cell_type": "code",
   "execution_count": 7,
   "id": "d311aa6b",
   "metadata": {},
   "outputs": [],
   "source": [
    "def train_nn(model, train_loader, test_loader, criterion, optimizer, n_epochs):\n",
    "    device = set_device()\n",
    "    best_acc = 0\n",
    "    \n",
    "    for epoch in tqdm(range(n_epochs)):\n",
    "        print(f\"Epoch: {epoch+1}\")\n",
    "        model.train()\n",
    "        running_loss = 0.0\n",
    "        running_correct = 0.0\n",
    "        total = 0\n",
    "        \n",
    "        for data in train_loader:\n",
    "            images, labels = data\n",
    "            images, labels = images.to(device), labels.to(device)\n",
    "            total += labels.size(0)\n",
    "            \n",
    "            optimizer.zero_grad()\n",
    "            \n",
    "            outputs = model(images)\n",
    "            _, predicted = torch.max(outputs.data, 1)\n",
    "            \n",
    "            loss = criterion(outputs, labels)\n",
    "            loss.backward()\n",
    "            \n",
    "            optimizer.step()\n",
    "            \n",
    "            running_loss += loss.item()\n",
    "            running_correct += (labels == predicted).sum().item()\n",
    "        \n",
    "        epoch_loss = running_loss / len(train_loader)\n",
    "        epoch_acc = 100.00 * (running_correct / total)\n",
    "        \n",
    "        print(f\"Training dataset: {int(running_correct)} out of {total} correct. Accuracy: {round(epoch_acc, 3)}. Loss: {round(epoch_loss, 3)}\")\n",
    "        \n",
    "        test_acc = evaluate_model(model, test_loader)\n",
    "        \n",
    "        if (test_acc > best_acc):\n",
    "            best_acc = test_acc\n",
    "            save_checkpoint(model, epoch, optimizer, best_acc)\n",
    "        \n",
    "    print(\"Finished\")\n",
    "    return model"
   ]
  },
  {
   "cell_type": "code",
   "execution_count": 8,
   "id": "1611ea0b",
   "metadata": {},
   "outputs": [],
   "source": [
    "resnet18 = models.resnet18(pretrained=False)\n",
    "num_features = resnet18.fc.in_features\n",
    "resnet18.fc = nn.Linear(num_features, NUM_CLASSES)\n",
    "\n",
    "device = set_device()\n",
    "resnet18 = resnet18.to(device)\n",
    "\n",
    "loss_func = nn.CrossEntropyLoss()\n",
    "optimizer = optim.SGD(resnet18.parameters(), lr=0.01, momentum=0.9, weight_decay=0.003)"
   ]
  },
  {
   "cell_type": "code",
   "execution_count": 9,
   "id": "255cde5d",
   "metadata": {},
   "outputs": [
    {
     "name": "stderr",
     "output_type": "stream",
     "text": [
      "\r",
      "  0%|                                                                                          | 0/150 [00:00<?, ?it/s]"
     ]
    },
    {
     "name": "stdout",
     "output_type": "stream",
     "text": [
      "Epoch: 1\n",
      "Training dataset: 409349 out of 1493921 correct. Accuracy: 27.401. Loss: 3.527\n"
     ]
    },
    {
     "name": "stderr",
     "output_type": "stream",
     "text": [
      "\r",
      "  1%|▌                                                                           | 1/150 [43:27<107:54:44, 2607.28s/it]"
     ]
    },
    {
     "name": "stdout",
     "output_type": "stream",
     "text": [
      "Testing dataset: 102862 out of 263634 correct. Accuracy: 39.017\n",
      "Epoch: 2\n",
      "Training dataset: 753682 out of 1493921 correct. Accuracy: 50.45. Loss: 2.285\n"
     ]
    },
    {
     "name": "stderr",
     "output_type": "stream",
     "text": [
      "\r",
      "  1%|▉                                                                         | 2/150 [1:26:32<106:39:33, 2594.41s/it]"
     ]
    },
    {
     "name": "stdout",
     "output_type": "stream",
     "text": [
      "Testing dataset: 128570 out of 263634 correct. Accuracy: 48.768\n",
      "Epoch: 3\n",
      "Training dataset: 844824 out of 1493921 correct. Accuracy: 56.551. Loss: 2.002\n"
     ]
    },
    {
     "name": "stderr",
     "output_type": "stream",
     "text": [
      "\r",
      "  2%|█▍                                                                        | 3/150 [2:09:33<105:41:28, 2588.35s/it]"
     ]
    },
    {
     "name": "stdout",
     "output_type": "stream",
     "text": [
      "Testing dataset: 139384 out of 263634 correct. Accuracy: 52.87\n",
      "Epoch: 4\n",
      "Training dataset: 875492 out of 1493921 correct. Accuracy: 58.604. Loss: 1.906\n"
     ]
    },
    {
     "name": "stderr",
     "output_type": "stream",
     "text": [
      "\r",
      "  3%|█▉                                                                        | 4/150 [2:52:35<104:51:46, 2585.66s/it]"
     ]
    },
    {
     "name": "stdout",
     "output_type": "stream",
     "text": [
      "Testing dataset: 129796 out of 263634 correct. Accuracy: 49.233\n",
      "Epoch: 5\n",
      "Training dataset: 891178 out of 1493921 correct. Accuracy: 59.654. Loss: 1.858\n"
     ]
    },
    {
     "name": "stderr",
     "output_type": "stream",
     "text": [
      "\r",
      "  3%|██▍                                                                       | 5/150 [3:35:42<104:10:05, 2586.24s/it]"
     ]
    },
    {
     "name": "stdout",
     "output_type": "stream",
     "text": [
      "Testing dataset: 141636 out of 263634 correct. Accuracy: 53.724\n",
      "Epoch: 6\n",
      "Training dataset: 901260 out of 1493921 correct. Accuracy: 60.328. Loss: 1.826\n"
     ]
    },
    {
     "name": "stderr",
     "output_type": "stream",
     "text": [
      "\r",
      "  4%|██▉                                                                       | 6/150 [4:18:48<103:26:48, 2586.17s/it]"
     ]
    },
    {
     "name": "stdout",
     "output_type": "stream",
     "text": [
      "Testing dataset: 141664 out of 263634 correct. Accuracy: 53.735\n",
      "Epoch: 7\n",
      "Training dataset: 908587 out of 1493921 correct. Accuracy: 60.819. Loss: 1.807\n"
     ]
    },
    {
     "name": "stderr",
     "output_type": "stream",
     "text": [
      "\r",
      "  5%|███▍                                                                      | 7/150 [5:01:46<102:37:31, 2583.57s/it]"
     ]
    },
    {
     "name": "stdout",
     "output_type": "stream",
     "text": [
      "Testing dataset: 139803 out of 263634 correct. Accuracy: 53.029\n",
      "Epoch: 8\n",
      "Training dataset: 910758 out of 1493921 correct. Accuracy: 60.964. Loss: 1.796\n"
     ]
    },
    {
     "name": "stderr",
     "output_type": "stream",
     "text": [
      "\r",
      "  5%|███▉                                                                      | 8/150 [5:44:45<101:50:48, 2582.03s/it]"
     ]
    },
    {
     "name": "stdout",
     "output_type": "stream",
     "text": [
      "Testing dataset: 140745 out of 263634 correct. Accuracy: 53.387\n",
      "Epoch: 9\n",
      "Training dataset: 915529 out of 1493921 correct. Accuracy: 61.284. Loss: 1.784\n"
     ]
    },
    {
     "name": "stderr",
     "output_type": "stream",
     "text": [
      "\r",
      "  6%|████▍                                                                     | 9/150 [6:27:45<101:06:02, 2581.29s/it]"
     ]
    },
    {
     "name": "stdout",
     "output_type": "stream",
     "text": [
      "Testing dataset: 142029 out of 263634 correct. Accuracy: 53.874\n",
      "Epoch: 10\n",
      "Training dataset: 918979 out of 1493921 correct. Accuracy: 61.515. Loss: 1.773\n"
     ]
    },
    {
     "name": "stderr",
     "output_type": "stream",
     "text": [
      "\r",
      "  7%|████▊                                                                    | 10/150 [7:10:49<100:25:28, 2582.35s/it]"
     ]
    },
    {
     "name": "stdout",
     "output_type": "stream",
     "text": [
      "Testing dataset: 146721 out of 263634 correct. Accuracy: 55.653\n",
      "Epoch: 11\n",
      "Training dataset: 922664 out of 1493921 correct. Accuracy: 61.761. Loss: 1.764\n"
     ]
    },
    {
     "name": "stderr",
     "output_type": "stream",
     "text": [
      "\r",
      "  7%|█████▍                                                                    | 11/150 [7:53:44<99:37:02, 2580.02s/it]"
     ]
    },
    {
     "name": "stdout",
     "output_type": "stream",
     "text": [
      "Testing dataset: 152250 out of 263634 correct. Accuracy: 57.751\n",
      "Epoch: 12\n",
      "Training dataset: 924478 out of 1493921 correct. Accuracy: 61.883. Loss: 1.758\n"
     ]
    },
    {
     "name": "stderr",
     "output_type": "stream",
     "text": [
      "\r",
      "  8%|█████▉                                                                    | 12/150 [8:36:40<98:51:11, 2578.78s/it]"
     ]
    },
    {
     "name": "stdout",
     "output_type": "stream",
     "text": [
      "Testing dataset: 153349 out of 263634 correct. Accuracy: 58.167\n",
      "Epoch: 13\n",
      "Training dataset: 926288 out of 1493921 correct. Accuracy: 62.004. Loss: 1.752\n"
     ]
    },
    {
     "name": "stderr",
     "output_type": "stream",
     "text": [
      "\r",
      "  9%|██████▍                                                                   | 13/150 [9:19:36<98:05:50, 2577.74s/it]"
     ]
    },
    {
     "name": "stdout",
     "output_type": "stream",
     "text": [
      "Testing dataset: 158366 out of 263634 correct. Accuracy: 60.07\n",
      "Epoch: 14\n",
      "Training dataset: 928102 out of 1493921 correct. Accuracy: 62.125. Loss: 1.747\n"
     ]
    },
    {
     "name": "stderr",
     "output_type": "stream",
     "text": [
      "\r",
      "  9%|██████▊                                                                  | 14/150 [10:02:37<97:25:33, 2578.92s/it]"
     ]
    },
    {
     "name": "stdout",
     "output_type": "stream",
     "text": [
      "Testing dataset: 150250 out of 263634 correct. Accuracy: 56.992\n",
      "Epoch: 15\n",
      "Training dataset: 927897 out of 1493921 correct. Accuracy: 62.112. Loss: 1.747\n"
     ]
    },
    {
     "name": "stderr",
     "output_type": "stream",
     "text": [
      "\r",
      " 10%|███████▎                                                                 | 15/150 [10:45:36<96:42:44, 2579.00s/it]"
     ]
    },
    {
     "name": "stdout",
     "output_type": "stream",
     "text": [
      "Testing dataset: 145829 out of 263634 correct. Accuracy: 55.315\n",
      "Epoch: 16\n",
      "Training dataset: 928644 out of 1493921 correct. Accuracy: 62.162. Loss: 1.745\n"
     ]
    },
    {
     "name": "stderr",
     "output_type": "stream",
     "text": [
      "\r",
      " 11%|███████▊                                                                 | 16/150 [11:28:39<96:02:00, 2580.00s/it]"
     ]
    },
    {
     "name": "stdout",
     "output_type": "stream",
     "text": [
      "Testing dataset: 158180 out of 263634 correct. Accuracy: 60.0\n",
      "Epoch: 17\n",
      "Training dataset: 928968 out of 1493921 correct. Accuracy: 62.183. Loss: 1.745\n"
     ]
    },
    {
     "name": "stderr",
     "output_type": "stream",
     "text": [
      "\r",
      " 11%|████████▎                                                                | 17/150 [12:11:39<95:19:15, 2580.12s/it]"
     ]
    },
    {
     "name": "stdout",
     "output_type": "stream",
     "text": [
      "Testing dataset: 147949 out of 263634 correct. Accuracy: 56.119\n",
      "Epoch: 18\n",
      "Training dataset: 930560 out of 1493921 correct. Accuracy: 62.29. Loss: 1.739\n"
     ]
    },
    {
     "name": "stderr",
     "output_type": "stream",
     "text": [
      "\r",
      " 12%|████████▊                                                                | 18/150 [12:54:41<94:37:08, 2580.52s/it]"
     ]
    },
    {
     "name": "stdout",
     "output_type": "stream",
     "text": [
      "Testing dataset: 151370 out of 263634 correct. Accuracy: 57.417\n",
      "Epoch: 19\n",
      "Training dataset: 930462 out of 1493921 correct. Accuracy: 62.283. Loss: 1.739\n"
     ]
    },
    {
     "name": "stderr",
     "output_type": "stream",
     "text": [
      "\r",
      " 13%|█████████▏                                                               | 19/150 [13:37:40<93:53:43, 2580.33s/it]"
     ]
    },
    {
     "name": "stdout",
     "output_type": "stream",
     "text": [
      "Testing dataset: 142150 out of 263634 correct. Accuracy: 53.919\n",
      "Epoch: 20\n",
      "Training dataset: 931299 out of 1493921 correct. Accuracy: 62.339. Loss: 1.738\n"
     ]
    },
    {
     "name": "stderr",
     "output_type": "stream",
     "text": [
      "\r",
      " 13%|█████████▋                                                               | 20/150 [14:20:42<93:11:11, 2580.55s/it]"
     ]
    },
    {
     "name": "stdout",
     "output_type": "stream",
     "text": [
      "Testing dataset: 123529 out of 263634 correct. Accuracy: 46.856\n",
      "Epoch: 21\n",
      "Training dataset: 932613 out of 1493921 correct. Accuracy: 62.427. Loss: 1.732\n"
     ]
    },
    {
     "name": "stderr",
     "output_type": "stream",
     "text": [
      "\r",
      " 14%|██████████▏                                                              | 21/150 [15:03:42<92:28:22, 2580.64s/it]"
     ]
    },
    {
     "name": "stdout",
     "output_type": "stream",
     "text": [
      "Testing dataset: 153231 out of 263634 correct. Accuracy: 58.123\n",
      "Epoch: 22\n",
      "Training dataset: 933814 out of 1493921 correct. Accuracy: 62.508. Loss: 1.73\n"
     ]
    },
    {
     "name": "stderr",
     "output_type": "stream",
     "text": [
      "\r",
      " 15%|██████████▋                                                              | 22/150 [15:46:41<91:43:52, 2579.94s/it]"
     ]
    },
    {
     "name": "stdout",
     "output_type": "stream",
     "text": [
      "Testing dataset: 155867 out of 263634 correct. Accuracy: 59.122\n",
      "Epoch: 23\n",
      "Training dataset: 933548 out of 1493921 correct. Accuracy: 62.49. Loss: 1.73\n"
     ]
    },
    {
     "name": "stderr",
     "output_type": "stream",
     "text": [
      "\r",
      " 15%|███████████▏                                                             | 23/150 [16:29:37<90:58:29, 2578.81s/it]"
     ]
    },
    {
     "name": "stdout",
     "output_type": "stream",
     "text": [
      "Testing dataset: 158095 out of 263634 correct. Accuracy: 59.968\n",
      "Epoch: 24\n",
      "Training dataset: 933522 out of 1493921 correct. Accuracy: 62.488. Loss: 1.731\n"
     ]
    },
    {
     "name": "stderr",
     "output_type": "stream",
     "text": [
      "\r",
      " 16%|███████████▋                                                             | 24/150 [17:12:32<90:13:25, 2577.82s/it]"
     ]
    },
    {
     "name": "stdout",
     "output_type": "stream",
     "text": [
      "Testing dataset: 157275 out of 263634 correct. Accuracy: 59.657\n",
      "Epoch: 25\n",
      "Training dataset: 933850 out of 1493921 correct. Accuracy: 62.51. Loss: 1.729\n"
     ]
    },
    {
     "name": "stderr",
     "output_type": "stream",
     "text": [
      "\r",
      " 17%|████████████▏                                                            | 25/150 [17:55:30<89:30:36, 2577.89s/it]"
     ]
    },
    {
     "name": "stdout",
     "output_type": "stream",
     "text": [
      "Testing dataset: 140534 out of 263634 correct. Accuracy: 53.306\n",
      "Epoch: 26\n",
      "Training dataset: 934105 out of 1493921 correct. Accuracy: 62.527. Loss: 1.728\n"
     ]
    },
    {
     "name": "stderr",
     "output_type": "stream",
     "text": [
      "\r",
      " 17%|████████████▋                                                            | 26/150 [18:38:30<88:48:47, 2578.44s/it]"
     ]
    },
    {
     "name": "stdout",
     "output_type": "stream",
     "text": [
      "Testing dataset: 155524 out of 263634 correct. Accuracy: 58.992\n",
      "Epoch: 27\n",
      "Training dataset: 934695 out of 1493921 correct. Accuracy: 62.567. Loss: 1.725\n"
     ]
    },
    {
     "name": "stderr",
     "output_type": "stream",
     "text": [
      "\r",
      " 18%|█████████████▏                                                           | 27/150 [19:21:35<88:09:52, 2580.42s/it]"
     ]
    },
    {
     "name": "stdout",
     "output_type": "stream",
     "text": [
      "Testing dataset: 150507 out of 263634 correct. Accuracy: 57.089\n",
      "Epoch: 28\n",
      "Training dataset: 936125 out of 1493921 correct. Accuracy: 62.662. Loss: 1.723\n"
     ]
    },
    {
     "name": "stderr",
     "output_type": "stream",
     "text": [
      "\r",
      " 19%|█████████████▋                                                           | 28/150 [20:04:33<87:25:22, 2579.69s/it]"
     ]
    },
    {
     "name": "stdout",
     "output_type": "stream",
     "text": [
      "Testing dataset: 147022 out of 263634 correct. Accuracy: 55.767\n",
      "Epoch: 29\n",
      "Training dataset: 936652 out of 1493921 correct. Accuracy: 62.698. Loss: 1.722\n"
     ]
    },
    {
     "name": "stderr",
     "output_type": "stream",
     "text": [
      "\r",
      " 19%|██████████████                                                           | 29/150 [20:47:25<86:37:24, 2577.23s/it]"
     ]
    },
    {
     "name": "stdout",
     "output_type": "stream",
     "text": [
      "Testing dataset: 146153 out of 263634 correct. Accuracy: 55.438\n",
      "Epoch: 30\n",
      "Training dataset: 935339 out of 1493921 correct. Accuracy: 62.61. Loss: 1.723\n"
     ]
    },
    {
     "name": "stderr",
     "output_type": "stream",
     "text": [
      "\r",
      " 20%|██████████████▌                                                          | 30/150 [21:30:27<85:57:15, 2578.63s/it]"
     ]
    },
    {
     "name": "stdout",
     "output_type": "stream",
     "text": [
      "Testing dataset: 146924 out of 263634 correct. Accuracy: 55.73\n",
      "Epoch: 31\n",
      "Training dataset: 935726 out of 1493921 correct. Accuracy: 62.636. Loss: 1.725\n"
     ]
    },
    {
     "name": "stderr",
     "output_type": "stream",
     "text": [
      "\r",
      " 21%|███████████████                                                          | 31/150 [22:13:24<85:13:41, 2578.33s/it]"
     ]
    },
    {
     "name": "stdout",
     "output_type": "stream",
     "text": [
      "Testing dataset: 148430 out of 263634 correct. Accuracy: 56.302\n",
      "Epoch: 32\n",
      "Training dataset: 936655 out of 1493921 correct. Accuracy: 62.698. Loss: 1.722\n"
     ]
    },
    {
     "name": "stderr",
     "output_type": "stream",
     "text": [
      "\r",
      " 21%|███████████████▌                                                         | 32/150 [22:56:22<84:30:30, 2578.23s/it]"
     ]
    },
    {
     "name": "stdout",
     "output_type": "stream",
     "text": [
      "Testing dataset: 147922 out of 263634 correct. Accuracy: 56.109\n",
      "Epoch: 33\n",
      "Training dataset: 937433 out of 1493921 correct. Accuracy: 62.75. Loss: 1.72\n"
     ]
    },
    {
     "name": "stderr",
     "output_type": "stream",
     "text": [
      "\r",
      " 22%|████████████████                                                         | 33/150 [23:39:23<83:49:19, 2579.14s/it]"
     ]
    },
    {
     "name": "stdout",
     "output_type": "stream",
     "text": [
      "Testing dataset: 148123 out of 263634 correct. Accuracy: 56.185\n",
      "Epoch: 34\n"
     ]
    },
    {
     "name": "stderr",
     "output_type": "stream",
     "text": [
      " 22%|████████████████                                                         | 33/150 [24:02:34<85:14:34, 2622.86s/it]\n"
     ]
    },
    {
     "ename": "KeyboardInterrupt",
     "evalue": "",
     "output_type": "error",
     "traceback": [
      "\u001b[1;31m---------------------------------------------------------------------------\u001b[0m",
      "\u001b[1;31mKeyboardInterrupt\u001b[0m                         Traceback (most recent call last)",
      "Input \u001b[1;32mIn [9]\u001b[0m, in \u001b[0;36m<cell line: 1>\u001b[1;34m()\u001b[0m\n\u001b[1;32m----> 1\u001b[0m \u001b[43mtrain_nn\u001b[49m\u001b[43m(\u001b[49m\u001b[43mresnet18\u001b[49m\u001b[43m,\u001b[49m\u001b[43m \u001b[49m\u001b[43mtrain_loader\u001b[49m\u001b[43m,\u001b[49m\u001b[43m \u001b[49m\u001b[43mtest_loader\u001b[49m\u001b[43m,\u001b[49m\u001b[43m \u001b[49m\u001b[43mloss_func\u001b[49m\u001b[43m,\u001b[49m\u001b[43m \u001b[49m\u001b[43moptimizer\u001b[49m\u001b[43m,\u001b[49m\u001b[43m \u001b[49m\u001b[43mn_epochs\u001b[49m\u001b[38;5;241;43m=\u001b[39;49m\u001b[43mTRAIN_EPOCHS\u001b[49m\u001b[43m)\u001b[49m\n",
      "Input \u001b[1;32mIn [7]\u001b[0m, in \u001b[0;36mtrain_nn\u001b[1;34m(model, train_loader, test_loader, criterion, optimizer, n_epochs)\u001b[0m\n\u001b[0;32m     20\u001b[0m _, predicted \u001b[38;5;241m=\u001b[39m torch\u001b[38;5;241m.\u001b[39mmax(outputs\u001b[38;5;241m.\u001b[39mdata, \u001b[38;5;241m1\u001b[39m)\n\u001b[0;32m     22\u001b[0m loss \u001b[38;5;241m=\u001b[39m criterion(outputs, labels)\n\u001b[1;32m---> 23\u001b[0m \u001b[43mloss\u001b[49m\u001b[38;5;241;43m.\u001b[39;49m\u001b[43mbackward\u001b[49m\u001b[43m(\u001b[49m\u001b[43m)\u001b[49m\n\u001b[0;32m     25\u001b[0m optimizer\u001b[38;5;241m.\u001b[39mstep()\n\u001b[0;32m     27\u001b[0m running_loss \u001b[38;5;241m+\u001b[39m\u001b[38;5;241m=\u001b[39m loss\u001b[38;5;241m.\u001b[39mitem()\n",
      "File \u001b[1;32m~\\.conda\\envs\\pytorch\\lib\\site-packages\\torch\\_tensor.py:307\u001b[0m, in \u001b[0;36mTensor.backward\u001b[1;34m(self, gradient, retain_graph, create_graph, inputs)\u001b[0m\n\u001b[0;32m    298\u001b[0m \u001b[38;5;28;01mif\u001b[39;00m has_torch_function_unary(\u001b[38;5;28mself\u001b[39m):\n\u001b[0;32m    299\u001b[0m     \u001b[38;5;28;01mreturn\u001b[39;00m handle_torch_function(\n\u001b[0;32m    300\u001b[0m         Tensor\u001b[38;5;241m.\u001b[39mbackward,\n\u001b[0;32m    301\u001b[0m         (\u001b[38;5;28mself\u001b[39m,),\n\u001b[1;32m   (...)\u001b[0m\n\u001b[0;32m    305\u001b[0m         create_graph\u001b[38;5;241m=\u001b[39mcreate_graph,\n\u001b[0;32m    306\u001b[0m         inputs\u001b[38;5;241m=\u001b[39minputs)\n\u001b[1;32m--> 307\u001b[0m \u001b[43mtorch\u001b[49m\u001b[38;5;241;43m.\u001b[39;49m\u001b[43mautograd\u001b[49m\u001b[38;5;241;43m.\u001b[39;49m\u001b[43mbackward\u001b[49m\u001b[43m(\u001b[49m\u001b[38;5;28;43mself\u001b[39;49m\u001b[43m,\u001b[49m\u001b[43m \u001b[49m\u001b[43mgradient\u001b[49m\u001b[43m,\u001b[49m\u001b[43m \u001b[49m\u001b[43mretain_graph\u001b[49m\u001b[43m,\u001b[49m\u001b[43m \u001b[49m\u001b[43mcreate_graph\u001b[49m\u001b[43m,\u001b[49m\u001b[43m \u001b[49m\u001b[43minputs\u001b[49m\u001b[38;5;241;43m=\u001b[39;49m\u001b[43minputs\u001b[49m\u001b[43m)\u001b[49m\n",
      "File \u001b[1;32m~\\.conda\\envs\\pytorch\\lib\\site-packages\\torch\\autograd\\__init__.py:154\u001b[0m, in \u001b[0;36mbackward\u001b[1;34m(tensors, grad_tensors, retain_graph, create_graph, grad_variables, inputs)\u001b[0m\n\u001b[0;32m    151\u001b[0m \u001b[38;5;28;01mif\u001b[39;00m retain_graph \u001b[38;5;129;01mis\u001b[39;00m \u001b[38;5;28;01mNone\u001b[39;00m:\n\u001b[0;32m    152\u001b[0m     retain_graph \u001b[38;5;241m=\u001b[39m create_graph\n\u001b[1;32m--> 154\u001b[0m \u001b[43mVariable\u001b[49m\u001b[38;5;241;43m.\u001b[39;49m\u001b[43m_execution_engine\u001b[49m\u001b[38;5;241;43m.\u001b[39;49m\u001b[43mrun_backward\u001b[49m\u001b[43m(\u001b[49m\n\u001b[0;32m    155\u001b[0m \u001b[43m    \u001b[49m\u001b[43mtensors\u001b[49m\u001b[43m,\u001b[49m\u001b[43m \u001b[49m\u001b[43mgrad_tensors_\u001b[49m\u001b[43m,\u001b[49m\u001b[43m \u001b[49m\u001b[43mretain_graph\u001b[49m\u001b[43m,\u001b[49m\u001b[43m \u001b[49m\u001b[43mcreate_graph\u001b[49m\u001b[43m,\u001b[49m\u001b[43m \u001b[49m\u001b[43minputs\u001b[49m\u001b[43m,\u001b[49m\n\u001b[0;32m    156\u001b[0m \u001b[43m    \u001b[49m\u001b[43mallow_unreachable\u001b[49m\u001b[38;5;241;43m=\u001b[39;49m\u001b[38;5;28;43;01mTrue\u001b[39;49;00m\u001b[43m,\u001b[49m\u001b[43m \u001b[49m\u001b[43maccumulate_grad\u001b[49m\u001b[38;5;241;43m=\u001b[39;49m\u001b[38;5;28;43;01mTrue\u001b[39;49;00m\u001b[43m)\u001b[49m\n",
      "\u001b[1;31mKeyboardInterrupt\u001b[0m: "
     ]
    }
   ],
   "source": [
    "train_nn(resnet18, train_loader, test_loader, loss_func, optimizer, n_epochs=TRAIN_EPOCHS)"
   ]
  },
  {
   "cell_type": "code",
   "execution_count": 10,
   "id": "0d936299",
   "metadata": {},
   "outputs": [
    {
     "name": "stdout",
     "output_type": "stream",
     "text": [
      "Best Epoch: 13, Best Accuracy: 60.07\n"
     ]
    }
   ],
   "source": [
    "checkpoint = torch.load(f'{CHECKPOINT_PATH}\\model_best_checkpoint.pth.tar')\n",
    "print(f\"Best Epoch: {checkpoint['epoch']}, Best Accuracy: {round(checkpoint['best accuracy'], 3)}\")"
   ]
  },
  {
   "cell_type": "code",
   "execution_count": 11,
   "id": "291280db",
   "metadata": {},
   "outputs": [],
   "source": [
    "resnet18 = models.resnet18(pretrained=False)\n",
    "num_features = resnet18.fc.in_features\n",
    "resnet18.fc = nn.Linear(num_features, NUM_CLASSES)\n",
    "resnet18.load_state_dict(checkpoint['model'])\n",
    "\n",
    "dummy_input = torch.randn(1, 3, 256, 256, dtype=torch.float32)\n",
    "torch.onnx.export(\n",
    "    resnet18, \n",
    "    dummy_input, \n",
    "    ONNX_SAVE_PATH,\n",
    "    verbose=False,\n",
    "    export_params=True,\n",
    "    opset_version=11,\n",
    "    input_names = ['image'],\n",
    "    output_names = ['pred']\n",
    ")"
   ]
  },
  {
   "cell_type": "code",
   "execution_count": null,
   "id": "662404db",
   "metadata": {},
   "outputs": [],
   "source": []
  }
 ],
 "metadata": {
  "kernelspec": {
   "display_name": "Python 3 (ipykernel)",
   "language": "python",
   "name": "python3"
  },
  "language_info": {
   "codemirror_mode": {
    "name": "ipython",
    "version": 3
   },
   "file_extension": ".py",
   "mimetype": "text/x-python",
   "name": "python",
   "nbconvert_exporter": "python",
   "pygments_lexer": "ipython3",
   "version": "3.9.12"
  }
 },
 "nbformat": 4,
 "nbformat_minor": 5
}
